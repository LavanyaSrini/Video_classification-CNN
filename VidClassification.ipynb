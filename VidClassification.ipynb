{
 "cells": [
  {
   "cell_type": "code",
   "execution_count": null,
   "metadata": {},
   "outputs": [],
   "source": [
    "from keras.models import Sequential\n",
    "from keras.layers import Dropout, Flatten, Dense, GlobalAveragePooling2D\n",
    "from keras import applications\n",
    "from keras.optimizers import SGD\n",
    "from sklearn.utils import shuffle\n",
    "from keras.preprocessing.image import ImageDataGenerator\n",
    "from keras.callbacks import EarlyStopping, ModelCheckpoint\n",
    "from keras.applications.vgg16 import VGG16\n",
    "from keras.applications.inception_v3 import InceptionV3\n",
    "import numpy as np\n",
    "import glob,os\n",
    "from scipy.misc import imread,imresize\n",
    "from keras.models import model_from_json\n",
    "from os import listdir\n"
   ]
  },
  {
   "cell_type": "markdown",
   "metadata": {},
   "source": [
    "### initializations\n"
   ]
  },
  {
   "cell_type": "code",
   "execution_count": null,
   "metadata": {
    "collapsed": true
   },
   "outputs": [],
   "source": [
    "trainDirectory = \"Data/train\"\n",
    "testDirectory = \"Data/test\"\n",
    "imageSize = (224,224)\n",
    "#imageSize = (299,299)\n",
    "batchSize = 32\n",
    "nClasses = 2"
   ]
  },
  {
   "cell_type": "markdown",
   "metadata": {},
   "source": [
    "### VGG 16 Model"
   ]
  },
  {
   "cell_type": "code",
   "execution_count": null,
   "metadata": {
    "collapsed": true
   },
   "outputs": [],
   "source": [
    "def load_VGG16_model():\n",
    "  base_model = VGG16(weights='imagenet', include_top=False, input_shape=(224,224,3))\n",
    "  print (\" VGG Model loaded..!\")\n",
    "  #print base_model.summary()\n",
    "\n",
    "  return base_model"
   ]
  },
  {
   "cell_type": "code",
   "execution_count": null,
   "metadata": {
    "collapsed": true
   },
   "outputs": [],
   "source": [
    "def load_Inception_model():\n",
    "    base_model = InceptionV3(weights='imagenet', include_top=False)\n",
    "    print(\"inception model loaded... \")\n",
    "    return base_model"
   ]
  },
  {
   "cell_type": "markdown",
   "metadata": {},
   "source": [
    "### Getting generators \n"
   ]
  },
  {
   "cell_type": "code",
   "execution_count": null,
   "metadata": {
    "collapsed": true
   },
   "outputs": [],
   "source": [
    "def get_test_genertor(dir):\n",
    "    test_datagen = ImageDataGenerator(rescale=1./255)\n",
    "    test_generator = test_datagen.flow_from_directory(\n",
    "        dir,\n",
    "        target_size= imageSize, #    (299, 299),\n",
    "        batch_size=batchSize ,\n",
    "        )\n",
    "\n",
    "    return test_generator\n",
    "\n",
    "\n",
    "def get_generators():\n",
    "    train_datagen = ImageDataGenerator(\n",
    "        rescale=1./255,\n",
    "        shear_range=0.2,\n",
    "        horizontal_flip=True,\n",
    "        rotation_range=10.,\n",
    "        width_shift_range=0.2,\n",
    "        height_shift_range=0.2)\n",
    "\n",
    "    test_datagen = ImageDataGenerator(rescale=1./255)\n",
    "\n",
    "    train_generator = train_datagen.flow_from_directory(\n",
    "        trainDirectory,\n",
    "        target_size=imageSize, #(299, 299),\n",
    "        batch_size=batchSize,\n",
    "        )\n",
    "        \n",
    "\n",
    "    validation_generator = test_datagen.flow_from_directory(\n",
    "        testDirectory,\n",
    "        target_size= imageSize, #    (299, 299),\n",
    "        batch_size=batchSize ,\n",
    "        )\n",
    "\n",
    "    return train_generator, validation_generator\n"
   ]
  },
  {
   "cell_type": "markdown",
   "metadata": {},
   "source": [
    "### Get model for the training\n"
   ]
  },
  {
   "cell_type": "code",
   "execution_count": null,
   "metadata": {
    "collapsed": true
   },
   "outputs": [],
   "source": [
    "def GetModel():\n",
    "    base_model = load_VGG16_model()\n",
    "    #base_model = load_Inception_model()\n",
    "    model = Sequential()\n",
    "    model.add(base_model)\n",
    "    model.add(GlobalAveragePooling2D())\n",
    "    model.add(Dense(1024, activation='relu'))\n",
    "    model.add(Dense(nClasses, activation='softmax'))    \n",
    "\n",
    "    for layer in base_model.layers:\n",
    "        layer.trainable = False\n",
    "\n",
    "    # compile the model (should be done *after* setting layers to non-trainable)\n",
    "    model.compile(optimizer='rmsprop', loss='categorical_crossentropy', metrics=['accuracy'])\n",
    "\n",
    "    return model"
   ]
  },
  {
   "cell_type": "code",
   "execution_count": null,
   "metadata": {},
   "outputs": [],
   "source": [
    "model = GetModel()\n",
    "model.summary()"
   ]
  },
  {
   "cell_type": "markdown",
   "metadata": {},
   "source": [
    "### Save/Load models"
   ]
  },
  {
   "cell_type": "code",
   "execution_count": null,
   "metadata": {
    "collapsed": true
   },
   "outputs": [],
   "source": [
    "def SaveModel(model):\n",
    "    # serialize model to JSON\n",
    "    model_json = model.to_json()\n",
    "    with open(\"model.json\", \"w\") as json_file:\n",
    "        json_file.write(model_json)\n",
    "    # serialize weights to HDF5\n",
    "    model.save_weights(\"model.h5\")\n",
    "    print(\"Saved model to disk\")\n",
    "def LoadSavedModel():\n",
    "\n",
    "    # load json and create model\n",
    "    json_file = open('model.json', 'r')\n",
    "    loaded_model_json = json_file.read()\n",
    "    json_file.close()\n",
    "    loaded_model = model_from_json(loaded_model_json)\n",
    "    # load weights into new model\n",
    "    loaded_model.load_weights(\"model.h5\")\n",
    "    print(\"Loaded model from disk\")\n",
    "    return loaded_model"
   ]
  },
  {
   "cell_type": "markdown",
   "metadata": {},
   "source": [
    "### Method for training "
   ]
  },
  {
   "cell_type": "code",
   "execution_count": null,
   "metadata": {
    "collapsed": true
   },
   "outputs": [],
   "source": [
    "def train_model(model, nb_epoch, generators, callbacks=[]):\n",
    "    train_generator, validation_generator = generators\n",
    "    model.fit_generator(\n",
    "        train_generator,\n",
    "        steps_per_epoch=100,\n",
    "        validation_data=validation_generator,\n",
    "        validation_steps=10,\n",
    "        epochs=nb_epoch,\n",
    "        callbacks=callbacks)\n",
    "    return model\n"
   ]
  },
  {
   "cell_type": "markdown",
   "metadata": {},
   "source": [
    "### Build the Model and train"
   ]
  },
  {
   "cell_type": "code",
   "execution_count": null,
   "metadata": {},
   "outputs": [],
   "source": [
    "model = GetModel()\n",
    "generators = get_generators()\n",
    "model = train_model(model, 10, generators)\n",
    "#SaveModel(model)"
   ]
  },
  {
   "cell_type": "markdown",
   "metadata": {},
   "source": [
    "### Or just load from the memory and compile"
   ]
  },
  {
   "cell_type": "code",
   "execution_count": null,
   "metadata": {},
   "outputs": [],
   "source": [
    "model = LoadSavedModel()\n",
    "model.compile(optimizer='rmsprop', loss='categorical_crossentropy', metrics=['accuracy'])"
   ]
  },
  {
   "cell_type": "code",
   "execution_count": null,
   "metadata": {
    "collapsed": true
   },
   "outputs": [],
   "source": [
    "generators = get_generators()\n",
    "train_generator, validation_generator = generators\n",
    "acc = model.evaluate_generator(validation_generator, steps=10)"
   ]
  },
  {
   "cell_type": "markdown",
   "metadata": {},
   "source": [
    "### Evaluate multiple folders (Video-Images)"
   ]
  },
  {
   "cell_type": "code",
   "execution_count": null,
   "metadata": {},
   "outputs": [],
   "source": [
    "testGen = get_test_genertor(\"Data/test2\")\n",
    "acc = model.evaluate_generator(testGen, steps=10)"
   ]
  },
  {
   "cell_type": "code",
   "execution_count": null,
   "metadata": {},
   "outputs": [],
   "source": [
    "im = imread(\"Data/test3/Class_1/49H.mp4_37674.jpg\")\n",
    "#im = imread(\"Data/test/Class_0/v_Diving_g24_c02.avi_138.jpg\")\n",
    "im = imresize(im,(224,224))\n",
    "im = im.reshape((1,224,224,3))"
   ]
  },
  {
   "cell_type": "code",
   "execution_count": null,
   "metadata": {},
   "outputs": [],
   "source": [
    "def classifyImages(model,dir):\n",
    "    files = [f for f in listdir(dir) ]\n",
    "    nFiles = 0\n",
    "    x = np.zeros((len(files),224,224,3))\n",
    "    print('Loading files...')\n",
    "    for f in files:\n",
    "        fName = \"{}{}\".format(dir,f)\n",
    "        #print(\"Loading {} ...\\n\".format(f))\n",
    "        im = imread(fName)\n",
    "        im = imresize(im,imageSize)\n",
    "        #x.append(im)\n",
    "        x[nFiles,:,:,:] = im\n",
    "    x = np.array(x)\n",
    "    #x = x.reshape()\n",
    "    print('Predicting...')\n",
    "    y = model.predict(x,batch_size=batchSize)\n",
    "    sumOne = [yIter.argmax() for yIter in y].count(1)\n",
    "    sumZero = [yIter.argmax() for yIter in y].count(0)\n",
    "    pred = 'Class_1' if sumOne>sumZero else 'Class_0'\n",
    "    perc = sumOne/(sumOne+sumZero) if sumOne>sumZero else (sumZero/(sumOne+sumZero))\n",
    "    return pred,perc"
   ]
  },
  {
   "cell_type": "markdown",
   "metadata": {},
   "source": [
    "### Calssification result "
   ]
  },
  {
   "cell_type": "code",
   "execution_count": null,
   "metadata": {},
   "outputs": [],
   "source": [
    "yPred,yPerc = classifyImages(model,\"Data/test3/Class_1/\")\n",
    "#files = [f for f in listdir(\"Data/test3/Class_1/\") ]\n",
    "print(yPred)\n",
    "print(yPerc)\n"
   ]
  },
  {
   "cell_type": "code",
   "execution_count": null,
   "metadata": {
    "collapsed": true
   },
   "outputs": [],
   "source": [
    "base_model = load_VGG16_model()\n",
    "y = base_model.predict(x)"
   ]
  },
  {
   "cell_type": "code",
   "execution_count": null,
   "metadata": {
    "collapsed": true
   },
   "outputs": [],
   "source": []
  }
 ],
 "metadata": {
  "kernelspec": {
   "display_name": "Python 3",
   "language": "python",
   "name": "python3"
  },
  "language_info": {
   "codemirror_mode": {
    "name": "ipython",
    "version": 3
   },
   "file_extension": ".py",
   "mimetype": "text/x-python",
   "name": "python",
   "nbconvert_exporter": "python",
   "pygments_lexer": "ipython3",
   "version": "3.5.2"
  }
 },
 "nbformat": 4,
 "nbformat_minor": 2
}
